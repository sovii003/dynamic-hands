{
  "cells": [
    {
      "cell_type": "markdown",
      "metadata": {
        "id": "view-in-github",
        "colab_type": "text"
      },
      "source": [
        "<a href=\"https://colab.research.google.com/github/sovii003/dynamic-hands/blob/main/dynamic_hand_gestures_model.ipynb\" target=\"_parent\"><img src=\"https://colab.research.google.com/assets/colab-badge.svg\" alt=\"Open In Colab\"/></a>"
      ]
    },
    {
      "cell_type": "code",
      "execution_count": null,
      "metadata": {
        "colab": {
          "base_uri": "https://localhost:8080/"
        },
        "id": "7t58_Fanrkq4",
        "outputId": "0b4a5a3c-c8b6-4f99-f90a-87b2f5cb1e5b"
      },
      "outputs": [
        {
          "output_type": "stream",
          "name": "stdout",
          "text": [
            "Mounted at /content/drive\n"
          ]
        }
      ],
      "source": [
        "from google.colab import drive\n",
        "drive.mount('/content/drive')"
      ]
    },
    {
      "cell_type": "code",
      "execution_count": null,
      "metadata": {
        "id": "qsJQrbY2sQM4"
      },
      "outputs": [],
      "source": [
        "!unzip /content/drive/MyDrive/20bnjester.zip"
      ]
    },
    {
      "cell_type": "code",
      "source": [
        "#alternative way of downloading kaggle datasets\n",
        "#upload the kaggle json api token\n",
        "from google.colab import files\n",
        "files.upload()\n",
        "\n",
        "# !mkdir ~/.kaggle\n",
        "# !cp kaggle.json ~/.kaggle/\n",
        "# !chmod 600 ~/.kaggle/kaggle.json\n",
        "\n",
        "# !kaggle datasets download -d kamadsaxena/20bnjester"
      ],
      "metadata": {
        "colab": {
          "resources": {
            "http://localhost:8080/nbextensions/google.colab/files.js": {
              "data": "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",
              "ok": true,
              "headers": [
                [
                  "content-type",
                  "application/javascript"
                ]
              ],
              "status": 200,
              "status_text": ""
            }
          },
          "base_uri": "https://localhost:8080/",
          "height": 123
        },
        "id": "NcLsPS8fxCpv",
        "outputId": "481b2275-b59a-4641-8897-b1148e2dce9f"
      },
      "execution_count": null,
      "outputs": [
        {
          "output_type": "display_data",
          "data": {
            "text/plain": [
              "<IPython.core.display.HTML object>"
            ],
            "text/html": [
              "\n",
              "     <input type=\"file\" id=\"files-4bb6f905-36ee-465a-b9a4-1955491e08f6\" name=\"files[]\" multiple disabled\n",
              "        style=\"border:none\" />\n",
              "     <output id=\"result-4bb6f905-36ee-465a-b9a4-1955491e08f6\">\n",
              "      Upload widget is only available when the cell has been executed in the\n",
              "      current browser session. Please rerun this cell to enable.\n",
              "      </output>\n",
              "      <script src=\"/nbextensions/google.colab/files.js\"></script> "
            ]
          },
          "metadata": {}
        },
        {
          "output_type": "stream",
          "name": "stdout",
          "text": [
            "Saving kaggle.json to kaggle.json\n",
            "Downloading 20bnjester.zip to /content\n",
            "100% 13.8G/13.9G [02:02<00:00, 195MB/s]\n",
            "100% 13.9G/13.9G [02:02<00:00, 121MB/s]\n"
          ]
        }
      ]
    },
    {
      "cell_type": "code",
      "source": [
        "!unzip -qq /content/20bnjester.zip"
      ],
      "metadata": {
        "id": "wYQMZtwuzpxP"
      },
      "execution_count": null,
      "outputs": []
    },
    {
      "cell_type": "code",
      "source": [],
      "metadata": {
        "id": "6QWeovPr1_cv"
      },
      "execution_count": null,
      "outputs": []
    },
    {
      "cell_type": "code",
      "execution_count": null,
      "metadata": {
        "id": "4xRmimAboWkj"
      },
      "outputs": [],
      "source": [
        "import numpy as np\n",
        "import cv2\n",
        "import tensorflow as tf\n",
        "import matplotlib.pyplot as plt"
      ]
    },
    {
      "cell_type": "code",
      "execution_count": null,
      "metadata": {
        "colab": {
          "base_uri": "https://localhost:8080/"
        },
        "id": "aMh_9Rt3oWko",
        "outputId": "c3370f1a-3ac8-42f5-f4dd-d669d30f1663"
      },
      "outputs": [
        {
          "output_type": "stream",
          "name": "stdout",
          "text": [
            "[name: \"/device:CPU:0\"\n",
            "device_type: \"CPU\"\n",
            "memory_limit: 268435456\n",
            "locality {\n",
            "}\n",
            "incarnation: 16606201943086905092\n",
            "xla_global_id: -1\n",
            ", name: \"/device:GPU:0\"\n",
            "device_type: \"GPU\"\n",
            "memory_limit: 14465892352\n",
            "locality {\n",
            "  bus_id: 1\n",
            "  links {\n",
            "  }\n",
            "}\n",
            "incarnation: 7054429014691681859\n",
            "physical_device_desc: \"device: 0, name: Tesla T4, pci bus id: 0000:00:04.0, compute capability: 7.5\"\n",
            "xla_global_id: 416903419\n",
            "]\n"
          ]
        }
      ],
      "source": [
        "from tensorflow.python.client import device_lib \n",
        "print(device_lib.list_local_devices())"
      ]
    },
    {
      "cell_type": "code",
      "execution_count": null,
      "metadata": {
        "id": "wFYjPN2LoWko"
      },
      "outputs": [],
      "source": [
        "import os\n",
        "import math\n",
        "import pandas as pd\n",
        "import matplotlib.image as img\n",
        "import matplotlib.pyplot as plt\n",
        "from sklearn.preprocessing import StandardScaler\n",
        "import tensorflow\n",
        "from tensorflow import keras\n"
      ]
    },
    {
      "cell_type": "code",
      "execution_count": null,
      "metadata": {
        "colab": {
          "base_uri": "https://localhost:8080/",
          "height": 35
        },
        "id": "ShzR7dSHoWkp",
        "outputId": "70c73d88-87b3-4831-9496-2ce3801d4598"
      },
      "outputs": [
        {
          "output_type": "execute_result",
          "data": {
            "text/plain": [
              "'2.8.2'"
            ],
            "application/vnd.google.colaboratory.intrinsic+json": {
              "type": "string"
            }
          },
          "metadata": {},
          "execution_count": 4
        }
      ],
      "source": [
        "tf.__version__"
      ]
    },
    {
      "cell_type": "code",
      "execution_count": null,
      "metadata": {
        "id": "t2L1H6d6oWkp"
      },
      "outputs": [],
      "source": [
        "# return gray image\n",
        "def rgb2gray(rgb):\n",
        "    return np.dot(rgb[...,:3], [0.2989, 0.5870, 0.1140])"
      ]
    },
    {
      "cell_type": "code",
      "execution_count": null,
      "metadata": {
        "id": "WDDzMH1koWkq"
      },
      "outputs": [],
      "source": [
        "# training targets, you can use your custome csv file if you already created it with \"training-sample.py\"\n",
        "df = pd.read_csv('/content/drive/MyDrive/Deep learning/Train.csv',header=None,sep = \",\").to_dict()\n",
        "# targets[16243]\n",
        "# validation targets, you can use your custome csv file if you already created it with \"validation-sample.py\"\n",
        "df_validation = pd.read_csv('/content/drive/MyDrive/Deep learning/Validation.csv',header=None,sep = \",\").to_dict()\n",
        "# targets_validation[2238]"
      ]
    },
    {
      "cell_type": "code",
      "source": [
        "for i in range(1,len(df[0])):\n",
        "  df[0][i] = int(df[0][i])"
      ],
      "metadata": {
        "id": "J1Em5KhD3wI2"
      },
      "execution_count": null,
      "outputs": []
    },
    {
      "cell_type": "code",
      "source": [
        "import os, shutil, pathlib\n",
        "\n",
        "direc = pathlib('/content/20BN-JESTER/Train')\n"
      ],
      "metadata": {
        "id": "ul8Lz1dS2kvb"
      },
      "execution_count": null,
      "outputs": []
    },
    {
      "cell_type": "code",
      "execution_count": null,
      "metadata": {
        "id": "UH_XPSQKFcb2"
      },
      "outputs": [],
      "source": [
        "targets = {}\n",
        "targets_locs = {}\n",
        "targets_validation = {}\n",
        "targets_validation_locs = {}\n",
        "for i in range(1,len(df[0])):\n",
        "  targets[i-1] = (df[1][i])\n",
        "  targets_locs[i-1] = int(df[0][i])\n",
        "for i in range(1,len(df_validation[0])):\n",
        "  targets_validation[i-1] = (df_validation[1][i])\n",
        "  targets_validation_locs[i-1] = int(df_validation[0][i])"
      ]
    },
    {
      "cell_type": "code",
      "execution_count": null,
      "metadata": {
        "colab": {
          "base_uri": "https://localhost:8080/"
        },
        "id": "1wVWX3olHXXO",
        "outputId": "7aa6ece9-ba03-450d-8471-613b27b9a998"
      },
      "outputs": [
        {
          "output_type": "stream",
          "name": "stdout",
          "text": [
            "3  No. folder performs:  Pushing Two Fingers Away\n"
          ]
        }
      ],
      "source": [
        "print(targets_locs[1],\" No. folder performs: \",targets[1])\n",
        "# print(targets_locs)"
      ]
    },
    {
      "cell_type": "code",
      "execution_count": null,
      "metadata": {
        "colab": {
          "base_uri": "https://localhost:8080/"
        },
        "id": "XklRfaNroWkr",
        "outputId": "76730cf3-affa-4474-fc01-cb0b8283249b"
      },
      "outputs": [
        {
          "output_type": "stream",
          "name": "stdout",
          "text": [
            "50420\n"
          ]
        }
      ],
      "source": [
        "print(len(targets))\n",
        "# targets"
      ]
    },
    {
      "cell_type": "code",
      "execution_count": null,
      "metadata": {
        "colab": {
          "base_uri": "https://localhost:8080/"
        },
        "id": "AZStbAtlLLxi",
        "outputId": "36d8cbb7-c97f-438f-a245-f4dceea2a5d6"
      },
      "outputs": [
        {
          "output_type": "stream",
          "name": "stdout",
          "text": [
            "                                0\n",
            "0              Doing other things\n",
            "1                Drumming Fingers\n",
            "2                      No gesture\n",
            "3                 Pulling Hand In\n",
            "4          Pulling Two Fingers In\n",
            "5               Pushing Hand Away\n",
            "6        Pushing Two Fingers Away\n",
            "7           Rolling Hand Backward\n",
            "8            Rolling Hand Forward\n",
            "9                    Shaking Hand\n",
            "10       Sliding Two Fingers Down\n",
            "11       Sliding Two Fingers Left\n",
            "12      Sliding Two Fingers Right\n",
            "13         Sliding Two Fingers Up\n",
            "14                      Stop Sign\n",
            "15                   Swiping Down\n",
            "16                   Swiping Left\n",
            "17                  Swiping Right\n",
            "18                     Swiping Up\n",
            "19                     Thumb Down\n",
            "20                       Thumb Up\n",
            "21         Turning Hand Clockwise\n",
            "22  Turning Hand Counterclockwise\n",
            "23      Zooming In With Full Hand\n",
            "24    Zooming In With Two Fingers\n",
            "25     Zooming Out With Full Hand\n",
            "26   Zooming Out With Two Fingers\n"
          ]
        }
      ],
      "source": [
        "label = pd.read_csv('/content/Labels.csv',header=None, usecols=[0])\n",
        "label.head()\n",
        "targets_name = label[0].tolist()\n",
        "len(targets_name)\n",
        "print(label)"
      ]
    },
    {
      "cell_type": "code",
      "execution_count": null,
      "metadata": {
        "id": "tvjn11opoWks"
      },
      "outputs": [],
      "source": [
        "# classes label you want to use all labels \n",
        "'''label = pd.read_csv('data_csv/labels.csv',header=None, usecols=[0])\n",
        "label.head()\n",
        "targets_name = label[0].tolist()\n",
        "len(targets_name)'''\n",
        "\n",
        "# The classes (labels) we want to use\n",
        "targets_name = [\n",
        "    \"Swiping Right\",\n",
        "    \"Swiping Left\",\n",
        "    \"Sliding Two Fingers Right\",\n",
        "    \"Sliding Two Fingers Left\",\n",
        "    \"Zooming Out With Two Fingers\",\n",
        "    \"Zooming Out With Two Fingers\",\n",
        "    \"No gesture\",\n",
        "    \"Thumb Up\",\n",
        "    \"Stop Sign\"\n",
        "    ]"
      ]
    },
    {
      "cell_type": "code",
      "execution_count": null,
      "metadata": {
        "id": "ZmArVpytoWkt"
      },
      "outputs": [],
      "source": [
        "# Get the data directories\n",
        "path = \"/content/20BN-JESTER/Train/\"\n",
        "path_cv = \"/content/20BN-JESTER/Validation/\"\n",
        "\n",
        "dirs = os.listdir(path)\n",
        "dirs_cv = os.listdir(path_cv)"
      ]
    },
    {
      "cell_type": "code",
      "execution_count": null,
      "metadata": {
        "colab": {
          "base_uri": "https://localhost:8080/"
        },
        "id": "2-q7xQCVoWkt",
        "outputId": "c756ab79-382e-4f15-8518-008568a8713f"
      },
      "outputs": [
        {
          "output_type": "stream",
          "name": "stdout",
          "text": [
            "50420\n",
            "7047\n"
          ]
        }
      ],
      "source": [
        "# number of samples for training and validation\n",
        "print(len(dirs))\n",
        "print(len(dirs_cv))"
      ]
    },
    {
      "cell_type": "code",
      "execution_count": null,
      "metadata": {
        "id": "TnrJzCFPMcoR"
      },
      "outputs": [],
      "source": [
        "final_train = {}\n",
        "final_train_locs = {}\n",
        "final_test = {}\n",
        "final_test_locs = {}\n",
        "counter=0\n",
        "for i in range(0,len(targets)):\n",
        "  if(targets[i] in targets_name):\n",
        "    final_train[counter] = targets[i]\n",
        "    final_train_locs[counter] = targets_locs[i]\n",
        "    counter+=1\n",
        "counter=0\n",
        "for i in range(0,len(targets_validation)):\n",
        "  if(targets_validation[i] in targets_name):\n",
        "    final_test[counter] = targets_validation[i]\n",
        "    final_test_locs[counter] = targets_validation_locs[i]\n",
        "    counter+=1"
      ]
    },
    {
      "cell_type": "code",
      "execution_count": null,
      "metadata": {
        "colab": {
          "base_uri": "https://localhost:8080/"
        },
        "id": "pbnCdkzUP3Tn",
        "outputId": "56fc18b9-868b-46ab-c4e1-5ffbe3ffd29d"
      },
      "outputs": [
        {
          "output_type": "stream",
          "name": "stdout",
          "text": [
            "31  folder is labelled:  Stop Sign\n",
            "37  folder is labelled:  Zooming Out With Two Fingers\n",
            "50  folder is labelled:  No gesture\n",
            "51  folder is labelled:  Swiping Right\n",
            "58  folder is labelled:  Zooming Out With Two Fingers\n",
            "59  folder is labelled:  Stop Sign\n",
            "70  folder is labelled:  No gesture\n",
            "95  folder is labelled:  Swiping Right\n",
            "100  folder is labelled:  Swiping Right\n",
            "107  folder is labelled:  Swiping Left\n"
          ]
        }
      ],
      "source": [
        "for i in range(10):\n",
        "  print(final_train_locs[i],\" folder is labelled: \",final_train[i])"
      ]
    },
    {
      "cell_type": "code",
      "execution_count": null,
      "metadata": {
        "colab": {
          "base_uri": "https://localhost:8080/"
        },
        "id": "Twqthc9wQTyG",
        "outputId": "71a5a824-80d8-4a3a-bd5e-2933dccd1a11"
      },
      "outputs": [
        {
          "output_type": "stream",
          "name": "stdout",
          "text": [
            "14441 , 1980\n"
          ]
        }
      ],
      "source": [
        "print(len(final_train),\",\",len(final_test))"
      ]
    },
    {
      "cell_type": "code",
      "execution_count": null,
      "metadata": {
        "id": "-1Lu3O5MoWku"
      },
      "outputs": [],
      "source": [
        "training_count = 10\n"
      ]
    },
    {
      "cell_type": "code",
      "execution_count": null,
      "metadata": {
        "id": "WaCZJvBioWku"
      },
      "outputs": [],
      "source": [
        "'''\n",
        "The videos do not have the same number of frames, here we try to unify.\n",
        "'''\n",
        "hm_frames = 30 # number of frames\n",
        "# unify number of frames for each training\n",
        "def get_unify_frames(path):\n",
        "    offset = 0\n",
        "    # pick frames\n",
        "    frames = os.listdir(path)\n",
        "    frames_count = len(frames)\n",
        "    # unify number of frames \n",
        "    if hm_frames > frames_count:\n",
        "        # duplicate last frame if video is shorter than necessary\n",
        "        frames += [frames[-1]] * (hm_frames - frames_count)\n",
        "    elif hm_frames < frames_count:\n",
        "        # If there are more frames, then sample starting offset\n",
        "        #diff = (frames_count - hm_frames)\n",
        "        #offset = diff-1 \n",
        "        frames = frames[0:hm_frames]\n",
        "    return frames  "
      ]
    },
    {
      "cell_type": "code",
      "execution_count": null,
      "metadata": {
        "id": "ArUrnxTeoWkv"
      },
      "outputs": [],
      "source": [
        "# Resize frames\n",
        "def resize_frame(frame):\n",
        "    frame = img.imread(frame)\n",
        "    frame = cv2.resize(frame, (64, 64))\n",
        "    return frame\n",
        "    "
      ]
    },
    {
      "cell_type": "code",
      "execution_count": null,
      "metadata": {
        "id": "PNXCkpSxR1TG"
      },
      "outputs": [],
      "source": [
        "dirs = []\n",
        "dirs_cv = []\n",
        "dirs = (final_train_locs)\n",
        "dirs_cv = (final_test_locs)"
      ]
    },
    {
      "cell_type": "code",
      "execution_count": null,
      "metadata": {
        "colab": {
          "base_uri": "https://localhost:8080/"
        },
        "id": "zB0YxqZfl6D0",
        "outputId": "54f50037-3d86-40d5-8cca-44b9e2716580"
      },
      "outputs": [
        {
          "output_type": "execute_result",
          "data": {
            "text/plain": [
              "1980"
            ]
          },
          "metadata": {},
          "execution_count": 23
        }
      ],
      "source": [
        "len(dirs_cv)"
      ]
    },
    {
      "cell_type": "code",
      "execution_count": null,
      "metadata": {
        "id": "NNI1-7zIjUxX"
      },
      "outputs": [],
      "source": [
        "for i in range(0,2000):\n",
        "  print(dirs[i])"
      ]
    },
    {
      "cell_type": "code",
      "execution_count": null,
      "metadata": {
        "id": "feu8ubVIoWky"
      },
      "outputs": [],
      "source": [
        "# Function to empty the RAM\n",
        "def release_list(a):\n",
        "   del a[:]\n",
        "   del a"
      ]
    },
    {
      "cell_type": "code",
      "execution_count": null,
      "metadata": {
        "id": "nzB3fXJPoWkv"
      },
      "outputs": [],
      "source": [
        "def train_data_prep(ini,k):\n",
        "  # Adjust training data\n",
        "  counter_training = 0 # number of training\n",
        "  training_targets = [] # training targets \n",
        "  new_frames = [] # training data after resize & unify\n",
        "  for i in range(len(dirs)*ini//k,len(dirs)*(ini+1)//k):\n",
        "      directory = dirs[i]\n",
        "      new_frame = [] # one training\n",
        "      # Frames in each folder\n",
        "      frames = get_unify_frames(path+str(directory))\n",
        "      if len(frames) == hm_frames: # just to be sure\n",
        "          for frame in frames:\n",
        "              frame = resize_frame(path+str(directory)+'/'+frame)\n",
        "              new_frame.append(rgb2gray(frame))\n",
        "              if len(new_frame) == 15: # partition each training on two trainings.\n",
        "                  new_frames.append(new_frame) # append each partition to training data\n",
        "                  if(final_train[i] in targets_name):\n",
        "                    training_targets.append(targets_name.index(final_train[i]))\n",
        "                  counter_training +=1\n",
        "                  new_frame = []\n",
        "  # convert training data to np float32\n",
        "  training_data = np.array(new_frames[0:counter_training], dtype=np.float32)\n",
        "  release_list(new_frames)\n",
        "  return training_data,training_targets"
      ]
    },
    {
      "cell_type": "code",
      "execution_count": null,
      "metadata": {
        "id": "NTAx_oXVoWkv"
      },
      "outputs": [],
      "source": [
        "def cv_data_prep(ini,k):\n",
        "  # we do the same for the validation data\n",
        "  counter_validation = 0\n",
        "  cv_targets = []\n",
        "  new_frames_cv = []\n",
        "  for i in range(len(dirs_cv)*ini//k,len(dirs_cv)*(ini+1)//k):\n",
        "    directory = dirs_cv[i]\n",
        "    new_frame = []\n",
        "    # Frames in each folder\n",
        "    frames = get_unify_frames(path_cv+str(directory))\n",
        "    if len(frames)==hm_frames:\n",
        "        for frame in frames:\n",
        "            frame = resize_frame(path_cv+str(directory)+'/'+frame)\n",
        "            new_frame.append(rgb2gray(frame))\n",
        "            if len(new_frame) == 15:\n",
        "                new_frames_cv.append(new_frame)\n",
        "                if(final_test[i] in targets_name):\n",
        "                    cv_targets.append(targets_name.index(final_test[i]))\n",
        "                counter_validation +=1\n",
        "                new_frame = []\n",
        "  # convert validation data to np float32\n",
        "  cv_data = np.array(new_frames_cv[0:counter_validation], dtype=np.float32)\n",
        "  release_list(new_frames_cv)\n",
        "  return cv_data,cv_targets"
      ]
    },
    {
      "cell_type": "code",
      "execution_count": null,
      "metadata": {
        "colab": {
          "base_uri": "https://localhost:8080/"
        },
        "id": "071ZerVRUaI3",
        "outputId": "76acf401-1ef5-495e-fa02-60eb59e0db6c"
      },
      "outputs": [
        {
          "output_type": "stream",
          "name": "stdout",
          "text": [
            "(4126, 15, 64, 64)\n",
            "(4126, 15, 64, 64)\n",
            "(4126, 15, 64, 64)\n",
            "(4126, 15, 64, 64)\n",
            "(4126, 15, 64, 64)\n",
            "(4126, 15, 64, 64)\n",
            "(4126, 15, 64, 64)\n"
          ]
        }
      ],
      "source": [
        "k = 7\n",
        "for i in range(0,k):\n",
        "  training_data, training_targets_piece = train_data_prep(i,k)\n",
        "  np.save('training_data'+str(i+1), training_data)\n",
        "  # release_list(training_data)\n",
        "  print(training_data.shape)\n",
        "  if(i==0):\n",
        "    training_targets = training_targets_piece\n",
        "  else:\n",
        "    training_targets+=training_targets_piece\n",
        "np.save('training_targets', training_targets)\n"
      ]
    },
    {
      "cell_type": "code",
      "execution_count": null,
      "metadata": {
        "colab": {
          "base_uri": "https://localhost:8080/"
        },
        "id": "HTTojvAQYOH4",
        "outputId": "b4827629-ffe1-430b-c586-626c1fa1865b"
      },
      "outputs": [
        {
          "output_type": "stream",
          "name": "stdout",
          "text": [
            "(3960, 15, 64, 64)\n"
          ]
        }
      ],
      "source": [
        "k =1\n",
        "for i in range(0,k):\n",
        "  cv_data, cv_targets_piece = cv_data_prep(i,k)\n",
        "  np.save('cv_data'+str(i+1), cv_data)\n",
        "  print(cv_data.shape)\n",
        "  if(i==0):\n",
        "    cv_targets = cv_targets_piece\n",
        "  else:\n",
        "    cv_targets+=cv_targets_piece\n",
        "np.save('cv_targets',cv_targets)"
      ]
    },
    {
      "cell_type": "code",
      "execution_count": null,
      "metadata": {
        "id": "2LkJSv3eIfEi"
      },
      "outputs": [],
      "source": [
        "!rm -rf 20bnjester"
      ]
    },
    {
      "cell_type": "code",
      "execution_count": null,
      "metadata": {
        "colab": {
          "base_uri": "https://localhost:8080/"
        },
        "id": "N13zC7eJoWkw",
        "outputId": "1e66e08d-e8eb-4758-fd6e-baab357b4864"
      },
      "outputs": [
        {
          "output_type": "stream",
          "name": "stdout",
          "text": [
            "28882\n",
            "3960\n"
          ]
        }
      ],
      "source": [
        "# To check training length and validation length\n",
        "# print(len(new_frames))\n",
        "# print(len(new_frames_cv))\n",
        "print(len(training_targets))\n",
        "print(len(cv_targets))"
      ]
    },
    {
      "cell_type": "code",
      "execution_count": null,
      "metadata": {
        "colab": {
          "base_uri": "https://localhost:8080/",
          "height": 424
        },
        "id": "3rLIWkdpoWkx",
        "outputId": "bb273fce-af85-466a-d49a-c17a17691547"
      },
      "outputs": [
        {
          "output_type": "display_data",
          "data": {
            "text/plain": [
              "<Figure size 432x288 with 15 Axes>"
            ],
            "image/png": "[encoded data removed]"
          },
          "metadata": {
            "needs_background": "light"
          }
        },
        {
          "output_type": "display_data",
          "data": {
            "text/plain": [
              "<Figure size 432x288 with 15 Axes>"
            ],
            "image/png": "[encoded data removed]"
          },
          "metadata": {
            "needs_background": "light"
          }
        },
        {
          "output_type": "display_data",
          "data": {
            "text/plain": [
              "<Figure size 432x288 with 0 Axes>"
            ]
          },
          "metadata": {}
        }
      ],
      "source": [
        "#show data\n",
        "fig = plt.figure()\n",
        "for i in range(2,4):\n",
        "    for num,frame in enumerate(training_data[i][0:18]):\n",
        "        y = fig.add_subplot(4,5,num+1)\n",
        "        y.imshow(frame, cmap='gray')\n",
        "    fig = plt.figure()\n",
        "plt.show()"
      ]
    },
    {
      "cell_type": "code",
      "execution_count": null,
      "metadata": {
        "colab": {
          "base_uri": "https://localhost:8080/"
        },
        "id": "ntyD4XDPoWky",
        "outputId": "08cced61-e073-49d5-b37f-673dbca00f73"
      },
      "outputs": [
        {
          "output_type": "stream",
          "name": "stdout",
          "text": [
            "(4126, 15, 64, 64)\n"
          ]
        },
        {
          "output_type": "execute_result",
          "data": {
            "text/plain": [
              "(3960, 15, 64, 64)"
            ]
          },
          "metadata": {},
          "execution_count": 33
        }
      ],
      "source": [
        "print(training_data.shape)\n",
        "cv_data.shape"
      ]
    },
    {
      "cell_type": "code",
      "execution_count": null,
      "metadata": {
        "id": "gfahEkVDoWkz"
      },
      "outputs": [],
      "source": [
        "# Normalisation: training\n",
        "k=7\n",
        "for i in range(1,k+1):\n",
        "  training_data = np.load('training_data'+str(i)+'.npy')\n",
        "  print('For ',i,'th data array:')\n",
        "  print('old mean', training_data.mean())\n",
        "  scaler = StandardScaler()\n",
        "  scaled_images  = scaler.fit_transform(training_data.reshape(-1, 15*64*64))\n",
        "  print('new mean', scaled_images.mean())\n",
        "  scaled_images  = scaled_images.reshape(-1, 15, 64, 64, 1)\n",
        "  print(scaled_images.shape)\n",
        "  np.save('scaled_images'+str(i),scaled_images)"
      ]
    },
    {
      "cell_type": "code",
      "execution_count": null,
      "metadata": {
        "id": "XzFznBCNoWkz"
      },
      "outputs": [],
      "source": [
        "# Normalisation: validation\n",
        "print('old mean', cv_data.mean())\n",
        "scaler = StandardScaler()\n",
        "scaled_images_cv  = scaler.fit_transform(cv_data.reshape(-1, 15*64*64))\n",
        "print('new mean',scaled_images_cv.mean())\n",
        "scaled_images_cv  = scaled_images_cv.reshape(-1, 15, 64, 64, 1)\n",
        "print(scaled_images_cv.shape)\n",
        "np.save('scaled_images_cv',scaled_images_cv)"
      ]
    },
    {
      "cell_type": "code",
      "execution_count": null,
      "metadata": {
        "id": "-p8DFwikoWkz"
      },
      "outputs": [],
      "source": [
        "# My model\n",
        "class Conv3DModel(tf.keras.Model):\n",
        "  def __init__(self):\n",
        "    super(Conv3DModel, self).__init__()\n",
        "    # Convolutions\n",
        "    self.conv1 = tf.compat.v2.keras.layers.Conv3D(32, (3, 3, 3), activation='relu', name=\"conv1\", data_format='channels_last')\n",
        "    self.pool1 = tf.keras.layers.MaxPool3D(pool_size=(2, 2, 2), data_format='channels_last')\n",
        "    self.conv2 = tf.compat.v2.keras.layers.Conv3D(64, (3, 3, 3), activation='relu', name=\"conv1\", data_format='channels_last')\n",
        "    self.pool2 = tf.keras.layers.MaxPool3D(pool_size=(2, 2,2), data_format='channels_last')\n",
        "   \n",
        "    # LSTM & Flatten\n",
        "    self.convLSTM =tf.keras.layers.ConvLSTM2D(40, (3, 3))\n",
        "    self.flatten =  tf.keras.layers.Flatten(name=\"flatten\")\n",
        "\n",
        "    # Dense layers\n",
        "    self.d1 = tf.keras.layers.Dense(128, activation='relu', name=\"d1\")\n",
        "    self.out = tf.keras.layers.Dense(9, activation='softmax', name=\"output\")\n",
        "    \n",
        "\n",
        "  def call(self, x):\n",
        "    x = self.conv1(x)\n",
        "    x = self.pool1(x)\n",
        "    x = self.conv2(x)\n",
        "    x = self.pool2(x)\n",
        "    x = self.convLSTM(x)\n",
        "    #x = self.pool2(x)\n",
        "    #x = self.conv3(x)\n",
        "    #x = self.pool3(x)\n",
        "    x = self.flatten(x)\n",
        "    x = self.d1(x)\n",
        "    return self.out(x)"
      ]
    },
    {
      "cell_type": "markdown",
      "metadata": {
        "id": "dWiPTjwMoWk0"
      },
      "source": [
        "Simple Model"
      ]
    },
    {
      "cell_type": "code",
      "execution_count": null,
      "metadata": {
        "id": "JwtMc4xiC0mF",
        "colab": {
          "base_uri": "https://localhost:8080/"
        },
        "outputId": "b5bd77f2-b80a-4926-8b82-7fdc7e80161d"
      },
      "outputs": [
        {
          "output_type": "stream",
          "name": "stdout",
          "text": [
            "4126  :  4126\n"
          ]
        }
      ],
      "source": [
        "k=7\n",
        "training_targets = np.load('/content/drive/MyDrive/dynamicHandsFiles/training_targets.npy')\n",
        "cv_targets = np.load('/content/drive/MyDrive/dynamicHandsFiles/cv_targets.npy')\n",
        "scaled_images_cv = np.load('/content/drive/MyDrive/dynamicHandsFiles/scaled_images7.npy')\n",
        "x_val = np.array(scaled_images_cv)\n",
        "del scaled_images_cv\n",
        "y_val = np.array(training_targets[len(training_targets)*6//7:len(training_targets)])\n",
        "print(len(x_val),\" : \",len(y_val))"
      ]
    },
    {
      "cell_type": "code",
      "execution_count": null,
      "metadata": {
        "id": "JlWKML6xoWk2"
      },
      "outputs": [],
      "source": [
        "from keras.callbacks import ModelCheckpoint\n",
        "\n",
        "# include the epoch in the file name. (uses `str.format`)\n",
        "checkpoint_path = \"training_today/cp-{epoch:04d}.ckpt\"\n",
        "checkpoint_dir = os.path.dirname(checkpoint_path)\n",
        "cp_callback = tf.keras.callbacks.ModelCheckpoint(\n",
        "    checkpoint_path, verbose=1, save_weights_only=True)"
      ]
    },
    {
      "cell_type": "code",
      "execution_count": null,
      "metadata": {
        "id": "GD5NUUNGoWk1"
      },
      "outputs": [],
      "source": [
        "for i in range(0,k-1):\n",
        "  scaled_images = np.load('/content/drive/MyDrive/dynamicHandsFiles/scaled_images'+str(i+1)+'.npy')\n",
        "  x_train = np.array(scaled_images)\n",
        "  y_train = np.array(training_targets[len(training_targets)*i//k:len(training_targets)*(i+1)//k])\n",
        "  model = Conv3DModel()\n",
        "  if(i!=0):\n",
        "    # model.build(input_shape=(None,15,64,64,1))\n",
        "    # model = keras.models.load_model('mymodel')\n",
        "    model.load_weights('mymodel')\n",
        "  # else:\n",
        "  model.compile(loss='sparse_categorical_crossentropy',\n",
        "                  optimizer=tf.keras.optimizers.Adam(),\n",
        "                  metrics = ['accuracy'])\n",
        "  # To check what variables are occupying the RAM at this point//from stackoverflow\n",
        "  import sys\n",
        "  def sizeof_fmt(num, suffix='B'):\n",
        "    ''' by Fred Cirera,  https://stackoverflow.com/a/1094933/1870254, modified'''\n",
        "    for unit in ['','Ki','Mi','Gi','Ti','Pi','Ei','Zi']:\n",
        "        if abs(num) < 1024.0:\n",
        "            return \"%3.1f %s%s\" % (num, unit, suffix)\n",
        "        num /= 1024.0\n",
        "    return \"%.1f %s%s\" % (num, 'Yi', suffix)\n",
        "\n",
        "  for name, size in sorted(((name, sys.getsizeof(value)) for name, value in locals().items()),\n",
        "                         key= lambda x: -x[1])[:10]:\n",
        "    print(\"{:>30}: {:>8}\".format(name, sizeof_fmt(size)))\n",
        "  # Run the training \n",
        "  history = model.fit(x_train, y_train,\n",
        "                      callbacks = [cp_callback],\n",
        "                      validation_data=(x_val, y_val),\n",
        "                      batch_size=32,\n",
        "                      epochs=4)\n",
        "  del scaled_images\n",
        "  # model.save('mymodel', save_format='tf')\n",
        "  model.save_weights('mymodel', save_format='tf')\n"
      ]
    },
    {
      "cell_type": "code",
      "source": [
        "# !unzip /content/mymodel.zip\n",
        "# model = keras.models.load_model('content/mymodel')"
      ],
      "metadata": {
        "id": "FTPVG6vOViBo"
      },
      "execution_count": null,
      "outputs": []
    },
    {
      "cell_type": "code",
      "source": [
        "x_test = np.load('/content/drive/MyDrive/dynamicHandsFiles/scaled_images_cv.npy')\n",
        "y_test = np.load('/content/drive/MyDrive/dynamicHandsFiles/cv_targets.npy')\n",
        "print(model.evaluate(x_test, y_test))"
      ],
      "metadata": {
        "colab": {
          "base_uri": "https://localhost:8080/"
        },
        "id": "ENvEu0W0QjIz",
        "outputId": "d721f32a-46b8-4e61-b2aa-9b1d22845089"
      },
      "execution_count": null,
      "outputs": [
        {
          "output_type": "stream",
          "name": "stdout",
          "text": [
            "124/124 [==============================] - 3s 25ms/step - loss: 1.2585 - accuracy: 0.6568\n",
            "[1.258490800857544, 0.6568182110786438]\n"
          ]
        }
      ]
    },
    {
      "cell_type": "code",
      "source": [
        "!zip -r /content/mymodel.zip /content/mymodel"
      ],
      "metadata": {
        "id": "Ur5UDXOugLS4"
      },
      "execution_count": null,
      "outputs": []
    },
    {
      "cell_type": "code",
      "execution_count": null,
      "metadata": {
        "id": "9kXIUHNgoWk1"
      },
      "outputs": [],
      "source": [
        "# choose the loss and optimizer methods\n",
        "# model.compile(loss='sparse_categorical_crossentropy',\n",
        "#               optimizer=tf.keras.optimizers.Adam(),\n",
        "#               metrics = ['accuracy'])"
      ]
    },
    {
      "cell_type": "code",
      "execution_count": null,
      "metadata": {
        "id": "UAgaXfwMoWk1"
      },
      "outputs": [],
      "source": [
        "# x_train = np.array(scaled_images)\n",
        "# y_train = np.array(training_targets[24756:28883])\n",
        "# x_val = np.array(scaled_images_cv)\n",
        "# y_val = np.array(cv_targets)"
      ]
    },
    {
      "cell_type": "code",
      "execution_count": null,
      "metadata": {
        "colab": {
          "base_uri": "https://localhost:8080/"
        },
        "id": "4nrJqhmioWk1",
        "outputId": "470326e9-a31f-47e3-80f2-f48e882291aa"
      },
      "outputs": [
        {
          "name": "stdout",
          "output_type": "stream",
          "text": [
            "(4126, 15, 64, 64, 1)\n",
            "(4126,)\n",
            "(3960, 15, 64, 64, 1)\n",
            "(3960,)\n"
          ]
        }
      ],
      "source": [
        "print(x_train.shape)\n",
        "print(y_train.shape)\n",
        "print(x_val.shape)\n",
        "print(y_val.shape)"
      ]
    },
    {
      "cell_type": "markdown",
      "metadata": {
        "id": "IiYqIh-hoWk2"
      },
      "source": [
        "#### here I use the checkpoints\n",
        "read more:\n",
        "https://www.tensorflow.org/beta/guide/checkpoints"
      ]
    },
    {
      "cell_type": "code",
      "execution_count": null,
      "metadata": {
        "id": "mS916ANkoWk2"
      },
      "outputs": [],
      "source": [
        "# Run the training \n",
        "history = model.fit(x_train, y_train,\n",
        "                    callbacks = [cp_callback],\n",
        "                    validation_data=(x_val, y_val),\n",
        "                    batch_size=32,\n",
        "                    epochs=10)"
      ]
    },
    {
      "cell_type": "code",
      "execution_count": null,
      "metadata": {
        "id": "i67mYIS3oWk2"
      },
      "outputs": [],
      "source": [
        "# just after one epoch\n",
        "history.history"
      ]
    },
    {
      "cell_type": "code",
      "execution_count": null,
      "metadata": {
        "id": "BAolUOWCoWk3"
      },
      "outputs": [],
      "source": [
        "# save the model for use in the application\n",
        "model.save_weights('weights/path_to_my_weights', save_format='tf')"
      ]
    },
    {
      "cell_type": "markdown",
      "metadata": {
        "id": "ku3g-DeroWk3"
      },
      "source": [
        "## 2. Using custom train step function and validation step\n"
      ]
    },
    {
      "cell_type": "code",
      "execution_count": null,
      "metadata": {
        "id": "2kD4SVZvoWk3"
      },
      "outputs": [],
      "source": [
        "# My model\n",
        "class Conv3DModel(tf.keras.Model):\n",
        "  def __init__(self):\n",
        "    super(Conv3DModel, self).__init__()\n",
        "    # Convolutions\n",
        "    self.conv1 = tf.compat.v2.keras.layers.Conv3D(32, (3, 3, 3), activation='relu', name=\"conv1\", data_format='channels_last')\n",
        "    self.pool1 = tf.keras.layers.MaxPool3D(pool_size=(2, 2, 2), data_format='channels_last')\n",
        "    self.conv2 = tf.compat.v2.keras.layers.Conv3D(64, (3, 3, 3), activation='relu', name=\"conv1\", data_format='channels_last')\n",
        "    self.pool2 = tf.keras.layers.MaxPool3D(pool_size=(2, 2,2), data_format='channels_last')\n",
        "   \n",
        "    # LSTM & Flatten\n",
        "    self.convLSTM =tf.keras.layers.ConvLSTM2D(40, (3, 3))\n",
        "    self.flatten =  tf.keras.layers.Flatten(name=\"flatten\")\n",
        "\n",
        "    # Dense layers\n",
        "    self.d1 = tf.keras.layers.Dense(128, activation='relu', name=\"d1\")\n",
        "    self.out = tf.keras.layers.Dense(9, activation='softmax', name=\"output\")\n",
        "    \n",
        "\n",
        "  def call(self, x):\n",
        "    x = self.conv1(x)\n",
        "    x = self.pool1(x)\n",
        "    x = self.conv2(x)\n",
        "    x = self.pool2(x)\n",
        "    x = self.convLSTM(x)\n",
        "    #x = self.pool2(x)\n",
        "    #x = self.conv3(x)\n",
        "    #x = self.pool3(x)\n",
        "    x = self.flatten(x)\n",
        "    x = self.d1(x)\n",
        "    return self.out(x)"
      ]
    },
    {
      "cell_type": "code",
      "execution_count": null,
      "metadata": {
        "id": "ab_N71TvoWk3"
      },
      "outputs": [],
      "source": [
        "model = Conv3DModel()"
      ]
    },
    {
      "cell_type": "markdown",
      "source": [
        "Owing to the constraint of Ram size, the following cell can be run first 6 times for the first 6 of 7 parts of the training for training and the last part for testing.\n",
        "The following can be further optimised by using iterative k fold cross validation, taking k=6 and rotating the last part for cross validation everytime. The dataset used for cross validation here shall be used for tesing. One of the 7 iterations will show the most accuracy on the test set. That can be taken as the most accurate model."
      ],
      "metadata": {
        "id": "bnzVHTc6mfhS"
      }
    },
    {
      "cell_type": "code",
      "execution_count": null,
      "metadata": {
        "id": "8SXjfr7wwy2M"
      },
      "outputs": [],
      "source": [
        "scaled_images = np.load('/content/drive/MyDrive/dynamicHandsFiles/scaled_images7.npy', mmap_mode='r')\n",
        "training_targets = np.load('/content/drive/MyDrive/dynamicHandsFiles/training_targets.npy',mmap_mode='r')\n",
        "scaled_images_cv = np.load('/content/drive/MyDrive/dynamicHandsFiles/scaled_images_cv.npy',mmap_mode='r')\n",
        "cv_targets =np.load('/content/drive/MyDrive/dynamicHandsFiles/cv_targets.npy',mmap_mode='r')"
      ]
    },
    {
      "cell_type": "code",
      "execution_count": null,
      "metadata": {
        "id": "jWePqln8oWk3"
      },
      "outputs": [],
      "source": [
        "# use tensorflow Dataset\n",
        "train_dataset = tf.data.Dataset.from_tensor_slices((scaled_images, training_targets[6*4126:7*4126]))\n",
        "cv_dataset = tf.data.Dataset.from_tensor_slices((scaled_images_cv, cv_targets))"
      ]
    },
    {
      "cell_type": "code",
      "execution_count": null,
      "metadata": {
        "colab": {
          "base_uri": "https://localhost:8080/"
        },
        "id": "Pny0uxwRoWk4",
        "outputId": "3da5def3-9453-4d43-c592-0725ff046084"
      },
      "outputs": [
        {
          "output_type": "execute_result",
          "data": {
            "text/plain": [
              "<tf.Tensor: shape=(2, 9), dtype=float32, numpy=\n",
              "array([[0.11039501, 0.11269773, 0.11174081, 0.12141634, 0.10355899,\n",
              "        0.11031649, 0.11128575, 0.11486369, 0.10372521],\n",
              "       [0.11091357, 0.11201296, 0.11212278, 0.11998361, 0.10485978,\n",
              "        0.11166513, 0.11084885, 0.11472065, 0.10287264]], dtype=float32)>"
            ]
          },
          "metadata": {},
          "execution_count": 10
        }
      ],
      "source": [
        "model(scaled_images[0:2])"
      ]
    },
    {
      "cell_type": "code",
      "execution_count": null,
      "metadata": {
        "colab": {
          "base_uri": "https://localhost:8080/"
        },
        "id": "H9jkMKNQoWk4",
        "outputId": "83fdf234-e232-4322-b7aa-c507d79056e2"
      },
      "outputs": [
        {
          "output_type": "stream",
          "name": "stdout",
          "text": [
            "Model: \"conv3d_model\"\n",
            "_________________________________________________________________\n",
            " Layer (type)                Output Shape              Param #   \n",
            "=================================================================\n",
            " conv1 (Conv3D)              multiple                  896       \n",
            "                                                                 \n",
            " max_pooling3d (MaxPooling3D  multiple                 0         \n",
            " )                                                               \n",
            "                                                                 \n",
            " conv1 (Conv3D)              multiple                  55360     \n",
            "                                                                 \n",
            " max_pooling3d_1 (MaxPooling  multiple                 0         \n",
            " 3D)                                                             \n",
            "                                                                 \n",
            " conv_lstm2d (ConvLSTM2D)    multiple                  149920    \n",
            "                                                                 \n",
            " flatten (Flatten)           multiple                  0         \n",
            "                                                                 \n",
            " d1 (Dense)                  multiple                  737408    \n",
            "                                                                 \n",
            " output (Dense)              multiple                  1161      \n",
            "                                                                 \n",
            "=================================================================\n",
            "Total params: 944,745\n",
            "Trainable params: 944,745\n",
            "Non-trainable params: 0\n",
            "_________________________________________________________________\n"
          ]
        }
      ],
      "source": [
        "model.summary()"
      ]
    },
    {
      "cell_type": "code",
      "execution_count": null,
      "metadata": {
        "id": "QF46Zp8FoWk4"
      },
      "outputs": [],
      "source": [
        "loss_fn = tf.keras.losses.SparseCategoricalCrossentropy()\n",
        "optimizer = tf.keras.optimizers.Adam()"
      ]
    },
    {
      "cell_type": "code",
      "execution_count": null,
      "metadata": {
        "id": "_VFzFXh2oWk4"
      },
      "outputs": [],
      "source": [
        "# Loss\n",
        "train_loss = tf.keras.metrics.Mean(name='train_loss')\n",
        "valid_loss = tf.keras.metrics.Mean(name='valid_loss')\n",
        "# Accuracy\n",
        "train_accuracy = tf.keras.metrics.SparseCategoricalAccuracy(name='train_accuracy')\n",
        "valid_accuracy = tf.keras.metrics.SparseCategoricalAccuracy(name='valid_accuracy')"
      ]
    },
    {
      "cell_type": "code",
      "execution_count": null,
      "metadata": {
        "id": "XJpzP8tUoWk4"
      },
      "outputs": [],
      "source": [
        "@tf.function\n",
        "def train_step(image, targets):\n",
        "    with tf.GradientTape() as tape:\n",
        "        # Make a prediction on all the batch\n",
        "        predictions = model(image)\n",
        "        # Get the error/loss on these predictions\n",
        "        loss = loss_fn(targets, predictions)\n",
        "    # Compute the gradient which respect to the loss\n",
        "    grads = tape.gradient(loss, model.trainable_variables)\n",
        "    # Change the weights of the model\n",
        "    optimizer.apply_gradients(zip(grads, model.trainable_variables))\n",
        "    # The metrics are accumulate over time. You don't need to average it yourself.\n",
        "    train_loss(loss)\n",
        "    train_accuracy(targets, predictions)"
      ]
    },
    {
      "cell_type": "code",
      "execution_count": null,
      "metadata": {
        "id": "jmJNFz7noWk5"
      },
      "outputs": [],
      "source": [
        "@tf.function\n",
        "def valid_step(image, targets):\n",
        "    predictions = model(image)\n",
        "    t_loss = loss_fn(targets, predictions)\n",
        "    # Set the metrics for the test\n",
        "    valid_loss(t_loss)\n",
        "    valid_accuracy(targets, predictions)"
      ]
    },
    {
      "cell_type": "markdown",
      "metadata": {
        "id": "OWOfgrhwoWk5"
      },
      "source": [
        "#### here I use the checkpoints\n",
        "read more:\n",
        "https://www.tensorflow.org/beta/guide/checkpoints"
      ]
    },
    {
      "cell_type": "code",
      "execution_count": null,
      "metadata": {
        "colab": {
          "base_uri": "https://localhost:8080/"
        },
        "id": "R8RApUg-oWk5",
        "outputId": "9043f947-9d7f-4021-9f53-03db81e01d4b"
      },
      "outputs": [
        {
          "output_type": "execute_result",
          "data": {
            "text/plain": [
              "<tensorflow.python.training.tracking.util.CheckpointLoadStatus at 0x7f028c0ba190>"
            ]
          },
          "metadata": {},
          "execution_count": 12
        }
      ],
      "source": [
        "ckpt = tf.train.Checkpoint(step=tf.Variable(1), optimizer=optimizer, model=model)\n",
        "manager = tf.train.CheckpointManager(ckpt, 'training_checkpoints/tf_ckpts', max_to_keep=10)\n",
        "ckpt.restore(manager.latest_checkpoint)"
      ]
    },
    {
      "cell_type": "code",
      "execution_count": null,
      "metadata": {
        "id": "Hc02-NUhoWk5",
        "colab": {
          "base_uri": "https://localhost:8080/"
        },
        "outputId": "1b00c2a4-4a3a-4fa5-a321-fb8e772327af"
      },
      "outputs": [
        {
          "output_type": "stream",
          "name": "stdout",
          "text": [
            " Batch 4096/28882, Loss: 1.1520532369613647, Accuracy: 59.18565368652344\n",
            "Epoch 1, Valid Loss: 0.9367847442626953, Valid Accuracy: 60.45454788208008\n",
            "Saved checkpoint for step 82: training_checkpoints/tf_ckpts/ckpt-81\n",
            " Batch 8224/28882, Loss: 0.6681046485900879, Accuracy: 72.46727752685547\n",
            "Epoch 2, Valid Loss: 0.9359727501869202, Valid Accuracy: 63.83838653564453\n",
            "Saved checkpoint for step 83: training_checkpoints/tf_ckpts/ckpt-82\n",
            " Batch 12352/28882, Loss: 0.4212353229522705, Accuracy: 83.73727416992188\n",
            "Epoch 3, Valid Loss: 0.956099808216095, Valid Accuracy: 64.79798126220703\n",
            "Saved checkpoint for step 84: training_checkpoints/tf_ckpts/ckpt-83\n",
            " Batch 16480/28882, Loss: 0.24684520065784454, Accuracy: 91.49296569824219\n",
            "Epoch 4, Valid Loss: 1.0307000875473022, Valid Accuracy: 65.12626647949219\n",
            "Saved checkpoint for step 85: training_checkpoints/tf_ckpts/ckpt-84\n",
            " Batch 20608/28882, Loss: 0.13303819298744202, Accuracy: 96.12215423583984\n",
            "Epoch 5, Valid Loss: 1.1714271306991577, Valid Accuracy: 64.89899444580078\n",
            "Saved checkpoint for step 86: training_checkpoints/tf_ckpts/ckpt-85\n",
            " Batch 24736/28882, Loss: 0.07215593755245209, Accuracy: 98.44886016845703\n",
            "Epoch 6, Valid Loss: 1.3533674478530884, Valid Accuracy: 64.09090423583984\n",
            "Saved checkpoint for step 87: training_checkpoints/tf_ckpts/ckpt-86\n",
            " Batch 28864/28882, Loss: 0.03985324874520302, Accuracy: 99.466796875\n",
            "Epoch 7, Valid Loss: 1.4089195728302002, Valid Accuracy: 65.40403747558594\n",
            "Saved checkpoint for step 88: training_checkpoints/tf_ckpts/ckpt-87\n",
            " Batch 32992/28882, Loss: 0.020924245938658714, Accuracy: 99.78186798095703\n",
            "Epoch 8, Valid Loss: 1.4748406410217285, Valid Accuracy: 65.6060562133789\n",
            "Saved checkpoint for step 89: training_checkpoints/tf_ckpts/ckpt-88\n",
            " Batch 37120/28882, Loss: 0.011008800938725471, Accuracy: 99.95153045654297\n",
            "Epoch 9, Valid Loss: 1.5206615924835205, Valid Accuracy: 65.88384246826172\n",
            "Saved checkpoint for step 90: training_checkpoints/tf_ckpts/ckpt-89\n",
            " Batch 41248/28882, Loss: 0.006629758048802614, Accuracy: 99.95153045654297\n",
            "Epoch 10, Valid Loss: 1.569380760192871, Valid Accuracy: 65.88384246826172\n",
            "Saved checkpoint for step 91: training_checkpoints/tf_ckpts/ckpt-90\n"
          ]
        }
      ],
      "source": [
        "epoch = 10\n",
        "batch_size = 32\n",
        "b = 0\n",
        "training_acc = []\n",
        "validation_acc = []\n",
        "for epoch in range(epoch):\n",
        "    # Training set\n",
        "    for images_batch, targets_batch in train_dataset.batch(batch_size):\n",
        "        train_step(images_batch, targets_batch)\n",
        "        template = '\\r Batch {}/{}, Loss: {}, Accuracy: {}'\n",
        "        print(template.format(\n",
        "            b, len(training_targets), train_loss.result(), \n",
        "            train_accuracy.result()*100\n",
        "        ), end=\"\")\n",
        "        b += batch_size\n",
        "    # Validation set\n",
        "    for images_batch, targets_batch in cv_dataset.batch(batch_size):\n",
        "        valid_step(images_batch, targets_batch)\n",
        "\n",
        "    template = '\\nEpoch {}, Valid Loss: {}, Valid Accuracy: {}'\n",
        "    print(template.format(\n",
        "        epoch+1,\n",
        "        valid_loss.result(), \n",
        "        valid_accuracy.result()*100)\n",
        "    )\n",
        "    training_acc.append(float(train_accuracy.result()*100))\n",
        "    validation_acc.append(float(valid_accuracy.result()*100))\n",
        "    ckpt.step.assign_add(1)\n",
        "    save_path = manager.save()\n",
        "    print(\"Saved checkpoint for step {}: {}\".format(int(ckpt.step), save_path))\n",
        "    valid_loss.reset_states()\n",
        "    valid_accuracy.reset_states()\n",
        "    train_accuracy.reset_states()\n",
        "    train_loss.reset_states()"
      ]
    },
    {
      "cell_type": "code",
      "execution_count": null,
      "metadata": {
        "id": "9wauSMt7oWk5",
        "colab": {
          "base_uri": "https://localhost:8080/"
        },
        "outputId": "13632683-50a5-443f-f569-e87de82ea8a7"
      },
      "outputs": [
        {
          "output_type": "stream",
          "name": "stdout",
          "text": [
            "['training_checkpoints/tf_ckpts/ckpt-21', 'training_checkpoints/tf_ckpts/ckpt-22', 'training_checkpoints/tf_ckpts/ckpt-23', 'training_checkpoints/tf_ckpts/ckpt-24', 'training_checkpoints/tf_ckpts/ckpt-25', 'training_checkpoints/tf_ckpts/ckpt-26', 'training_checkpoints/tf_ckpts/ckpt-27', 'training_checkpoints/tf_ckpts/ckpt-28', 'training_checkpoints/tf_ckpts/ckpt-29', 'training_checkpoints/tf_ckpts/ckpt-30']\n"
          ]
        }
      ],
      "source": [
        "print(manager.checkpoints)"
      ]
    },
    {
      "cell_type": "code",
      "execution_count": null,
      "metadata": {
        "id": "3njgHABBoWk6",
        "colab": {
          "base_uri": "https://localhost:8080/",
          "height": 279
        },
        "outputId": "928f4f63-7ebb-433c-dc61-460512c5a3f0"
      },
      "outputs": [
        {
          "output_type": "display_data",
          "data": {
            "text/plain": [
              "<Figure size 432x288 with 1 Axes>"
            ],
            "image/png": "[encoded data removed]"
          },
          "metadata": {
            "needs_background": "light"
          }
        }
      ],
      "source": [
        "# plote Accuracy / epoch\n",
        "plt.plot([1,2,3,4,5,6,7,8,9,10],training_acc, '-' )\n",
        "plt.plot([1,2,3,4,5,6,7,8,9,10],validation_acc, '-' )\n",
        "\n",
        "plt.ylabel('Accuracy')\n",
        "plt.xlabel('Epochs')\n",
        "plt.show()"
      ]
    },
    {
      "cell_type": "code",
      "source": [
        "print(validation_acc[-1])"
      ],
      "metadata": {
        "colab": {
          "base_uri": "https://localhost:8080/"
        },
        "id": "xqDM1Ed0abIK",
        "outputId": "a1b92811-2030-4f54-ab3b-56875a5d92fe"
      },
      "execution_count": null,
      "outputs": [
        {
          "output_type": "stream",
          "name": "stdout",
          "text": [
            "65.88384246826172\n"
          ]
        }
      ]
    },
    {
      "cell_type": "code",
      "execution_count": null,
      "metadata": {
        "id": "SsiMnnIhoWk6"
      },
      "outputs": [],
      "source": [
        "# save the model for use in the application\n",
        "model.save_weights('weights/path_to_my_weights', save_format='tf')"
      ]
    }
  ],
  "metadata": {
    "colab": {
      "collapsed_sections": [],
      "name": "dynamic-hand-gestures-model.ipynb",
      "provenance": [],
      "include_colab_link": true
    },
    "gpuClass": "standard",
    "kernelspec": {
      "display_name": "Python 3",
      "language": "python",
      "name": "python3"
    },
    "language_info": {
      "codemirror_mode": {
        "name": "ipython",
        "version": 3
      },
      "file_extension": ".py",
      "mimetype": "text/x-python",
      "name": "python",
      "nbconvert_exporter": "python",
      "pygments_lexer": "ipython3",
      "version": "3.7.12"
    }
  },
  "nbformat": 4,
  "nbformat_minor": 0
}